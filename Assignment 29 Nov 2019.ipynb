{
 "cells": [
  {
   "cell_type": "code",
   "execution_count": 1,
   "metadata": {},
   "outputs": [
    {
     "name": "stdout",
     "output_type": "stream",
     "text": [
      "The Zen of Python, by Tim Peters\n",
      "\n",
      "Beautiful is better than ugly.\n",
      "Explicit is better than implicit.\n",
      "Simple is better than complex.\n",
      "Complex is better than complicated.\n",
      "Flat is better than nested.\n",
      "Sparse is better than dense.\n",
      "Readability counts.\n",
      "Special cases aren't special enough to break the rules.\n",
      "Although practicality beats purity.\n",
      "Errors should never pass silently.\n",
      "Unless explicitly silenced.\n",
      "In the face of ambiguity, refuse the temptation to guess.\n",
      "There should be one-- and preferably only one --obvious way to do it.\n",
      "Although that way may not be obvious at first unless you're Dutch.\n",
      "Now is better than never.\n",
      "Although never is often better than *right* now.\n",
      "If the implementation is hard to explain, it's a bad idea.\n",
      "If the implementation is easy to explain, it may be a good idea.\n",
      "Namespaces are one honking great idea -- let's do more of those!\n"
     ]
    }
   ],
   "source": [
    "import this"
   ]
  },
  {
   "cell_type": "code",
   "execution_count": 2,
   "metadata": {},
   "outputs": [],
   "source": [
    "kick=\"Rahim is dead\""
   ]
  },
  {
   "cell_type": "code",
   "execution_count": 3,
   "metadata": {},
   "outputs": [
    {
     "data": {
      "text/plain": [
       "str"
      ]
     },
     "execution_count": 3,
     "metadata": {},
     "output_type": "execute_result"
    }
   ],
   "source": [
    "type(kick)"
   ]
  },
  {
   "cell_type": "code",
   "execution_count": 5,
   "metadata": {},
   "outputs": [
    {
     "name": "stdout",
     "output_type": "stream",
     "text": [
      "Rahim is dead\n",
      "rahim is dead\n",
      "RAHIM IS DEAD\n",
      "Rahim Is Dead\n",
      "13\n",
      "rahim is dead\n",
      "Rahim is dead\n",
      "Rahim is dead\n",
      "daed si mihaR\n"
     ]
    }
   ],
   "source": [
    "print (kick.capitalize()) # Only 1st letter will in uppercase\n",
    "print (kick.lower())      # all lower characters\n",
    "print (kick.upper())      # all upper characters\n",
    "print (kick.title())      # First letter of each word in uppercase\n",
    "print (len(kick))         # length of characters or whole sentence\n",
    "print (kick.casefold())   # lower all characters\n",
    "#slicing (more than one value from list)\n",
    "#list[start:end:step]\n",
    "#tuple[start:end:step]\n",
    "#string[start:end:step] here our focus is on string\n",
    "print(kick[::])           # if not given any start end or step value it will show whole string\n",
    "print(kick[0:41:])        #total length 41 starting from 0 as default starting point is 0\n",
    "#if we want reverse values we can just right step as -1 lets check\n",
    "print(kick[::-1])"
   ]
  },
  {
   "cell_type": "code",
   "execution_count": 6,
   "metadata": {},
   "outputs": [
    {
     "data": {
      "text/plain": [
       "'Rahim is dead'"
      ]
     },
     "execution_count": 6,
     "metadata": {},
     "output_type": "execute_result"
    }
   ],
   "source": [
    "kick.replace(\"Rahim is a good guy, actually great!!\",\"He is no more!\") #\"inline string value replacement\""
   ]
  },
  {
   "cell_type": "code",
   "execution_count": 7,
   "metadata": {},
   "outputs": [
    {
     "name": "stdout",
     "output_type": "stream",
     "text": [
      "Rahim is dead\n"
     ]
    }
   ],
   "source": [
    "print(kick)"
   ]
  },
  {
   "cell_type": "code",
   "execution_count": 8,
   "metadata": {},
   "outputs": [
    {
     "name": "stdout",
     "output_type": "stream",
     "text": [
      "          Rahim is dead          \n",
      "33\n",
      "Rahim is dead          \n",
      "23\n",
      "          Rahim is dead\n",
      "23\n",
      "Rahim is dead\n",
      "13\n",
      "['Rahim', 'is', 'dead']\n"
     ]
    }
   ],
   "source": [
    "#if having extra spaces in string how to remove lets check with lstrip, rstrip and spilt options\n",
    "b = \"          Rahim is dead          \"\n",
    "print (b)\n",
    "print(len(b))\n",
    "print (b.lstrip()) #lstrip used to remove spaces from left side of string\n",
    "print (len(b.lstrip()))  #to check length after removing leftside spaces\n",
    "print (b.rstrip()) #rstrip used to remove spaces from right side of string\n",
    "print (len(b.rstrip()))#to check length after removing rightside spaces\n",
    "print (b.strip()) #function strip remove extra spaces from both sides\n",
    "print (len(b.strip()))\n",
    "c = b.split() #to remove extra spaces we have converted string into list\n",
    "print (c)"
   ]
  },
  {
   "cell_type": "code",
   "execution_count": 9,
   "metadata": {},
   "outputs": [
    {
     "data": {
      "text/plain": [
       "'Rahim is dead'"
      ]
     },
     "execution_count": 9,
     "metadata": {},
     "output_type": "execute_result"
    }
   ],
   "source": [
    "\" \".join(c)"
   ]
  },
  {
   "cell_type": "code",
   "execution_count": 11,
   "metadata": {},
   "outputs": [
    {
     "name": "stdout",
     "output_type": "stream",
     "text": [
      "True\n",
      "False\n",
      "False\n",
      "True\n"
     ]
    }
   ],
   "source": [
    "#isupper and islower function\n",
    "x = \"RAHIM\"\n",
    "y = \"rahim\"\n",
    "print (x.isupper()) #it will show true because all characters are in uppercase\n",
    "print (y.isupper()) #it will return false becase all characters are in lowercasse\n",
    "print (x.islower()) #it will return false because all characters are in uppercase we are checking lower characters here\n",
    "print (y.islower()) #it will return true becase all characters are in lowercasse"
   ]
  },
  {
   "cell_type": "code",
   "execution_count": 12,
   "metadata": {},
   "outputs": [
    {
     "name": "stdout",
     "output_type": "stream",
     "text": [
      "True\n",
      "False\n",
      "True\n",
      "False\n"
     ]
    }
   ],
   "source": [
    "r = \"      \\n\"\n",
    "s = \" a\"\n",
    "print (r.isspace())\n",
    "print (s.isspace())\n",
    "\n",
    "#let check istitle function\n",
    "str1 = \"What Is Your Name?\"\n",
    "str2 = \"What is your name?\"\n",
    "print(str1.istitle()) #it will return true because str1 contain only title sentense\n",
    "print(str2.istitle()) #it will return false"
   ]
  },
  {
   "cell_type": "code",
   "execution_count": 13,
   "metadata": {},
   "outputs": [
    {
     "name": "stdout",
     "output_type": "stream",
     "text": [
      "\n",
      "BHARIA UNIVERSITY\n",
      "name: Rahim Sharafyar\n",
      "Father's Name: Abdul Sattar \n",
      "program: PIAIC\n",
      "SCORE:  800\n",
      "\n"
     ]
    }
   ],
   "source": [
    "#format function\n",
    "name = \"Rahim Sharafyar\"\n",
    "fname = \"Abdul Sattar\"\n",
    "program = \"PIAIC\"\n",
    "score = 800\n",
    "card = \"\"\"\n",
    "BHARIA UNIVERSITY\n",
    "name: {}\n",
    "Father's Name: {} \n",
    "program: {}\n",
    "SCORE:  {}\n",
    "\"\"\"\n",
    "print(card.format(name, fname, program, score))"
   ]
  },
  {
   "cell_type": "code",
   "execution_count": 14,
   "metadata": {},
   "outputs": [
    {
     "name": "stdout",
     "output_type": "stream",
     "text": [
      "the count is :  2\n"
     ]
    }
   ],
   "source": [
    "#count function, is used to count characters in string it is character sensitive\n",
    "a = \"we are studying python in AI class on every sunday, AI is best course\"\n",
    "b = \"AI\"\n",
    "count = a.count(b)\n",
    "print (\"the count is : \", count) #here we are counting required words or characters"
   ]
  },
  {
   "cell_type": "code",
   "execution_count": 15,
   "metadata": {},
   "outputs": [
    {
     "name": "stdout",
     "output_type": "stream",
     "text": [
      "00000050\n"
     ]
    }
   ],
   "source": [
    "#Zfill it will fill with zeros untill string value comes\n",
    "x = \"50\"\n",
    "print (x.zfill(8)) #given value 8 is total value including string value"
   ]
  },
  {
   "cell_type": "code",
   "execution_count": 16,
   "metadata": {},
   "outputs": [
    {
     "name": "stdout",
     "output_type": "stream",
     "text": [
      "      Pakistan      \n",
      "****************Pakistan****************\n"
     ]
    }
   ],
   "source": [
    "#center function with string\n",
    "txt = \"Pakistan\"\n",
    "print (txt.center(20)) #this is used to center align text we can use * or any characher with it let c\n",
    "print (txt.center(40,\"*\"))"
   ]
  },
  {
   "cell_type": "code",
   "execution_count": 18,
   "metadata": {},
   "outputs": [
    {
     "name": "stdout",
     "output_type": "stream",
     "text": [
      "True\n",
      "False\n"
     ]
    }
   ],
   "source": [
    "name = \"Rahim sharafyar\"\n",
    "#endswith function\n",
    "print (name.endswith('r')) #last character is n thats why returned true\n",
    "print (name.endswith('a')) #it will return false because last character is not a"
   ]
  },
  {
   "cell_type": "markdown",
   "metadata": {},
   "source": [
    "# Using of different operator and oprands"
   ]
  },
  {
   "cell_type": "code",
   "execution_count": 19,
   "metadata": {},
   "outputs": [
    {
     "data": {
      "text/plain": [
       "175.37037037037038"
      ]
     },
     "execution_count": 19,
     "metadata": {},
     "output_type": "execute_result"
    }
   ],
   "source": [
    "98+78+(6-23)/27"
   ]
  },
  {
   "cell_type": "code",
   "execution_count": 20,
   "metadata": {},
   "outputs": [
    {
     "data": {
      "text/plain": [
       "120.46153846153847"
      ]
     },
     "execution_count": 20,
     "metadata": {},
     "output_type": "execute_result"
    }
   ],
   "source": [
    "18*87/13 #taking answer in Float"
   ]
  },
  {
   "cell_type": "code",
   "execution_count": 21,
   "metadata": {},
   "outputs": [
    {
     "data": {
      "text/plain": [
       "15"
      ]
     },
     "execution_count": 21,
     "metadata": {},
     "output_type": "execute_result"
    }
   ],
   "source": [
    "877//56 #taking the answer in Int"
   ]
  },
  {
   "cell_type": "code",
   "execution_count": 22,
   "metadata": {},
   "outputs": [
    {
     "data": {
      "text/plain": [
       "0"
      ]
     },
     "execution_count": 22,
     "metadata": {},
     "output_type": "execute_result"
    }
   ],
   "source": [
    "768%8"
   ]
  },
  {
   "cell_type": "code",
   "execution_count": 23,
   "metadata": {},
   "outputs": [
    {
     "data": {
      "text/plain": [
       "2"
      ]
     },
     "execution_count": 23,
     "metadata": {},
     "output_type": "execute_result"
    }
   ],
   "source": [
    "11%9"
   ]
  },
  {
   "cell_type": "code",
   "execution_count": 24,
   "metadata": {},
   "outputs": [
    {
     "data": {
      "text/plain": [
       "95.75"
      ]
     },
     "execution_count": 24,
     "metadata": {},
     "output_type": "execute_result"
    }
   ],
   "source": [
    "766*100/800"
   ]
  },
  {
   "cell_type": "code",
   "execution_count": 25,
   "metadata": {},
   "outputs": [
    {
     "name": "stdout",
     "output_type": "stream",
     "text": [
      "95.75\n"
     ]
    }
   ],
   "source": [
    "obtain= 766\n",
    "total=800\n",
    "cent=100\n",
    "Percentage=obtain*cent/total\n",
    "print(Percentage)"
   ]
  },
  {
   "cell_type": "code",
   "execution_count": 26,
   "metadata": {},
   "outputs": [
    {
     "data": {
      "text/plain": [
       "'C:\\\\Users\\\\Rahim sharafyar'"
      ]
     },
     "execution_count": 26,
     "metadata": {},
     "output_type": "execute_result"
    }
   ],
   "source": [
    "pwd"
   ]
  },
  {
   "cell_type": "code",
   "execution_count": null,
   "metadata": {},
   "outputs": [],
   "source": []
  }
 ],
 "metadata": {
  "kernelspec": {
   "display_name": "Python 3",
   "language": "python",
   "name": "python3"
  },
  "language_info": {
   "codemirror_mode": {
    "name": "ipython",
    "version": 3
   },
   "file_extension": ".py",
   "mimetype": "text/x-python",
   "name": "python",
   "nbconvert_exporter": "python",
   "pygments_lexer": "ipython3",
   "version": "3.7.4"
  }
 },
 "nbformat": 4,
 "nbformat_minor": 2
}
