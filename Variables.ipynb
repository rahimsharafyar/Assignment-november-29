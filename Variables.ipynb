{
 "cells": [
  {
   "cell_type": "code",
   "execution_count": 2,
   "metadata": {},
   "outputs": [
    {
     "name": "stdout",
     "output_type": "stream",
     "text": [
      "1530\n"
     ]
    }
   ],
   "source": [
    "length=34\n",
    "width=45\n",
    "\n",
    "Area=length*width\n",
    "print(Area)"
   ]
  },
  {
   "cell_type": "code",
   "execution_count": 7,
   "metadata": {},
   "outputs": [
    {
     "name": "stdout",
     "output_type": "stream",
     "text": [
      "Lamborghini Veneno Ninja H2R\n"
     ]
    }
   ],
   "source": [
    "dream_car=\"Lamborghini Veneno\"\n",
    "dream_bike=\"Ninja H2R\"\n",
    "print(dream_car , dream_bike)\n",
    "\n"
   ]
  },
  {
   "cell_type": "code",
   "execution_count": 9,
   "metadata": {},
   "outputs": [
    {
     "name": "stdout",
     "output_type": "stream",
     "text": [
      "Lamborghini VenenoNinja H2R\n"
     ]
    }
   ],
   "source": [
    "dream_car=\"Lamborghini Veneno\"\n",
    "dream_bike=\"Ninja H2R\"\n",
    "print(dream_car + dream_bike)\n"
   ]
  },
  {
   "cell_type": "code",
   "execution_count": 11,
   "metadata": {},
   "outputs": [
    {
     "name": "stdout",
     "output_type": "stream",
     "text": [
      "354\n"
     ]
    }
   ],
   "source": [
    "bio=74\n",
    "che=68\n",
    "phy=73\n",
    "eng=74\n",
    "urd=65\n",
    "total=bio+che+phy+eng+urd\n",
    "print(total)"
   ]
  },
  {
   "cell_type": "code",
   "execution_count": 12,
   "metadata": {},
   "outputs": [
    {
     "name": "stdout",
     "output_type": "stream",
     "text": [
      "94.4\n"
     ]
    }
   ],
   "source": [
    "obtained=354\n",
    "total=375\n",
    "cent=100\n",
    "Percentage=obtained*cent/total\n",
    "print(Percentage)"
   ]
  },
  {
   "cell_type": "code",
   "execution_count": 13,
   "metadata": {},
   "outputs": [
    {
     "name": "stdout",
     "output_type": "stream",
     "text": [
      "94\n"
     ]
    }
   ],
   "source": [
    "obtained=354\n",
    "total=375\n",
    "cent=100\n",
    "Percentage=obtained*cent//total\n",
    "print(Percentage)"
   ]
  },
  {
   "cell_type": "code",
   "execution_count": 14,
   "metadata": {},
   "outputs": [
    {
     "name": "stdout",
     "output_type": "stream",
     "text": [
      "1.1000000000000085\n"
     ]
    }
   ],
   "source": [
    "student1=94.4\n",
    "student2=93.3\n",
    "difference=student1-student2\n",
    "print(difference)"
   ]
  },
  {
   "cell_type": "code",
   "execution_count": null,
   "metadata": {},
   "outputs": [],
   "source": []
  }
 ],
 "metadata": {
  "kernelspec": {
   "display_name": "Python 3",
   "language": "python",
   "name": "python3"
  },
  "language_info": {
   "codemirror_mode": {
    "name": "ipython",
    "version": 3
   },
   "file_extension": ".py",
   "mimetype": "text/x-python",
   "name": "python",
   "nbconvert_exporter": "python",
   "pygments_lexer": "ipython3",
   "version": "3.7.4"
  }
 },
 "nbformat": 4,
 "nbformat_minor": 2
}
