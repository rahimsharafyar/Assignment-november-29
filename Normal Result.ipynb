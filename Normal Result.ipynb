{
 "cells": [
  {
   "cell_type": "code",
   "execution_count": 2,
   "metadata": {},
   "outputs": [
    {
     "name": "stdout",
     "output_type": "stream",
     "text": [
      " \n",
      "PIAIC Islamabad Batch3 student Results\n",
      "Name : Rahim sharafyar\n",
      "Father_Name : Abdul sattar\n",
      "Registration_No : PIAIC74786\n",
      "Bio      : 73\n",
      "Mat      : 67\n",
      "Phy      : 72\n",
      "Che      : 71\n",
      "Eng      : 74\n",
      "Total marks : 357\n",
      "Percentage : 95.2\n"
     ]
    }
   ],
   "source": [
    "\n",
    "message = \"\"\" \n",
    "PIAIC Islamabad Batch3 student Results\n",
    "Name : Rahim sharafyar\n",
    "Father_Name : Abdul sattar\n",
    "Registration_No : PIAIC74786\n",
    "Bio      : 73\n",
    "Mat      : 67\n",
    "Phy      : 72\n",
    "Che      : 71\n",
    "Eng      : 74\n",
    "Total marks : 357\n",
    "Percentage : 95.2\"\"\"\n",
    "\n",
    "message1=message\n",
    "\n",
    "\n",
    "print(message1)"
   ]
  },
  {
   "cell_type": "code",
   "execution_count": 13,
   "metadata": {},
   "outputs": [
    {
     "ename": "SyntaxError",
     "evalue": "invalid syntax (<ipython-input-13-0e97e228051f>, line 1)",
     "output_type": "error",
     "traceback": [
      "\u001b[1;36m  File \u001b[1;32m\"<ipython-input-13-0e97e228051f>\"\u001b[1;36m, line \u001b[1;32m1\u001b[0m\n\u001b[1;33m    =M\u001b[0m\n\u001b[1;37m    ^\u001b[0m\n\u001b[1;31mSyntaxError\u001b[0m\u001b[1;31m:\u001b[0m invalid syntax\n"
     ]
    }
   ],
   "source": [
    "=M\n",
    "message = \"\"\"hello\n",
    "how are you\n",
    "where are you\"\"\"\n",
    "message1 = message\n",
    "print(\"message1\")"
   ]
  },
  {
   "cell_type": "code",
   "execution_count": null,
   "metadata": {},
   "outputs": [],
   "source": []
  },
  {
   "cell_type": "code",
   "execution_count": null,
   "metadata": {},
   "outputs": [],
   "source": []
  },
  {
   "cell_type": "code",
   "execution_count": null,
   "metadata": {},
   "outputs": [],
   "source": []
  },
  {
   "cell_type": "code",
   "execution_count": null,
   "metadata": {},
   "outputs": [],
   "source": []
  },
  {
   "cell_type": "code",
   "execution_count": null,
   "metadata": {},
   "outputs": [],
   "source": []
  }
 ],
 "metadata": {
  "kernelspec": {
   "display_name": "Python 3",
   "language": "python",
   "name": "python3"
  },
  "language_info": {
   "codemirror_mode": {
    "name": "ipython",
    "version": 3
   },
   "file_extension": ".py",
   "mimetype": "text/x-python",
   "name": "python",
   "nbconvert_exporter": "python",
   "pygments_lexer": "ipython3",
   "version": "3.7.4"
  }
 },
 "nbformat": 4,
 "nbformat_minor": 2
}
