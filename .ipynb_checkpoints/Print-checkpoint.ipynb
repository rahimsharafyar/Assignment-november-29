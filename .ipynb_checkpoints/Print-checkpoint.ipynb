{
 "cells": [
  {
   "cell_type": "code",
   "execution_count": 2,
   "metadata": {},
   "outputs": [
    {
     "name": "stdout",
     "output_type": "stream",
     "text": [
      "432 435\n"
     ]
    }
   ],
   "source": [
    "print(432,435)"
   ]
  },
  {
   "cell_type": "code",
   "execution_count": 3,
   "metadata": {},
   "outputs": [
    {
     "name": "stdout",
     "output_type": "stream",
     "text": [
      "Message Result Piaic\n"
     ]
    }
   ],
   "source": [
    "print(\"Message\",\"Result\",\"Piaic\")"
   ]
  },
  {
   "cell_type": "code",
   "execution_count": 5,
   "metadata": {},
   "outputs": [
    {
     "name": "stdout",
     "output_type": "stream",
     "text": [
      "MessageNResultNPiaic\n"
     ]
    }
   ],
   "source": [
    "print(\"Message\",\"Result\",\"Piaic\",sep=\"N\")"
   ]
  },
  {
   "cell_type": "code",
   "execution_count": 17,
   "metadata": {},
   "outputs": [
    {
     "name": "stdout",
     "output_type": "stream",
     "text": [
      "Message  123Result  123Piaic\n"
     ]
    }
   ],
   "source": [
    "print(\"Message\",\"Result\",\"Piaic\",sep=\"  123\")"
   ]
  },
  {
   "cell_type": "code",
   "execution_count": 14,
   "metadata": {},
   "outputs": [
    {
     "name": "stdout",
     "output_type": "stream",
     "text": [
      "alogan\tkachalan\n",
      "tepar\n"
     ]
    }
   ],
   "source": [
    "print(\"alogan\",end=\"\\t\")\n",
    "print(\"kachalan\")\n",
    "print(\"tepar\")"
   ]
  },
  {
   "cell_type": "code",
   "execution_count": 18,
   "metadata": {},
   "outputs": [
    {
     "name": "stdout",
     "output_type": "stream",
     "text": [
      "alogan\n",
      "\n",
      "kachalan\n",
      "tepar\n"
     ]
    }
   ],
   "source": [
    "print(\"alogan\",end=\"\\n\\n\")\n",
    "print(\"kachalan\")\n",
    "print(\"tepar\")"
   ]
  },
  {
   "cell_type": "code",
   "execution_count": null,
   "metadata": {},
   "outputs": [],
   "source": [
    "print()"
   ]
  }
 ],
 "metadata": {
  "kernelspec": {
   "display_name": "Python 3",
   "language": "python",
   "name": "python3"
  },
  "language_info": {
   "codemirror_mode": {
    "name": "ipython",
    "version": 3
   },
   "file_extension": ".py",
   "mimetype": "text/x-python",
   "name": "python",
   "nbconvert_exporter": "python",
   "pygments_lexer": "ipython3",
   "version": "3.7.4"
  }
 },
 "nbformat": 4,
 "nbformat_minor": 2
}
